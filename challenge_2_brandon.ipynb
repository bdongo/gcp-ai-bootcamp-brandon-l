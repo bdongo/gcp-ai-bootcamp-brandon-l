{
  "cells": [
    {
      "cell_type": "code",
      "id": "s9rvlEh7rEQkWw0gJbXsgf8A",
      "metadata": {
        "tags": [],
        "id": "s9rvlEh7rEQkWw0gJbXsgf8A"
      },
      "source": [
        "!pip install --upgrade google-genai"
      ],
      "execution_count": null,
      "outputs": []
    },
    {
      "cell_type": "code",
      "source": [
        "import json\n",
        "from google.cloud import bigquery\n",
        "\n",
        "def vector_search(user_question):\n",
        "  client = bigquery.Client()\n",
        "\n",
        "  sql = \"\"\"\n",
        "  SELECT query.query, base.question, base.answer, distance\n",
        "  FROM VECTOR_SEARCH(\n",
        "  TABLE `qwiklabs-gcp-01-3005c83a3aae.faq.aurora_faq_with_embeddings`, 'ml_generate_embedding_result',\n",
        "  (\n",
        "  SELECT text_embedding, content AS query\n",
        "  FROM ML.GENERATE_TEXT_EMBEDDING(\n",
        "  MODEL `qwiklabs-gcp-01-3005c83a3aae.faq.embedding_model`,\n",
        "  (SELECT @user_question AS content))\n",
        "  ),\n",
        "  top_k => 5, options => '{\"fraction_lists_to_search\": 0.01}')\n",
        "  \"\"\"\n",
        "\n",
        "  job_config = bigquery.QueryJobConfig(\n",
        "      query_parameters=[\n",
        "          bigquery.ScalarQueryParameter(\"user_question\", \"STRING\", user_question),\n",
        "          # Options must be passed as a JSON string\n",
        "          bigquery.ScalarQueryParameter(\"search_options\", \"JSON\", json.dumps({\"fraction_lists_to_search\": 0.01}))\n",
        "      ]\n",
        "  )\n",
        "\n",
        "  try:\n",
        "    # Start the query job.\n",
        "    # print(f\"Executing vector search for: '{user_question}'\")\n",
        "    query_job = client.query(sql, job_config=job_config)\n",
        "\n",
        "    # Wait for the job to complete and fetch results.\n",
        "    results = query_job.result() # Waits for job completion\n",
        "\n",
        "    # Process results into a more usable format (list of dictionaries)\n",
        "    output_rows = []\n",
        "    for row in results:\n",
        "        output_rows.append({\n",
        "            \"query\": row.query,\n",
        "            \"question\": row.question,\n",
        "            \"answer\": row.answer,\n",
        "            # \"distance\": row.distance\n",
        "        })\n",
        "\n",
        "    # print(f\"Found {len(output_rows)} similar questions.\")\n",
        "    return output_rows\n",
        "\n",
        "  except Exception as e:\n",
        "      print(f\"An error occurred during the BigQuery vector search: {e}\")\n",
        "      return []\n",
        "\n",
        "\n",
        "# print(vector_search(\"aurora\"))\n",
        "result = vector_search(\"Can I get help with taxes\")"
      ],
      "metadata": {
        "id": "sLLIZzupYj6L"
      },
      "id": "sLLIZzupYj6L",
      "execution_count": 49,
      "outputs": []
    },
    {
      "cell_type": "code",
      "source": [
        "def format_prompt(user_question, results):\n",
        "  output = f\"User Query: {user_question} \\n\\nUse the relevant information below to help the user:\"\n",
        "  for result in results:\n",
        "    output = output + \"\\n\\n\" + \"Question: \" + result.get(\"question\") + \"\\n\" + \"Answer: \" +result.get(\"answer\")\n",
        "\n",
        "  return output\n",
        "\n",
        "print(format_prompt(\"Can I get help with taxes\", result))"
      ],
      "metadata": {
        "colab": {
          "base_uri": "https://localhost:8080/"
        },
        "id": "g1Y5kmD6chfR",
        "outputId": "e59484a1-391a-48bf-b74d-770857454ef9"
      },
      "id": "g1Y5kmD6chfR",
      "execution_count": 52,
      "outputs": [
        {
          "output_type": "stream",
          "name": "stdout",
          "text": [
            "User Query: Can I get help with taxes \n",
            "\n",
            "Use the relevant information below to help the user:\n",
            "\n",
            "Question: What is the local tax rate for businesses?\n",
            "Answer: Business taxes include a 4% sales tax and a 2% local business tax on net profits, in addition to any applicable state taxes.\n",
            "\n",
            "Question: Who do I contact about property tax assessments?\n",
            "Answer: For property tax assessments, contact the Aurora Bay Assessors’ Office at Town Hall, or call (907) 555-0145 for assistance.\n",
            "\n",
            "Question: question\n",
            "Answer: answer\n",
            "\n",
            "Question: How can I volunteer in community events?\n",
            "Answer: You can sign up through the Community Center’s volunteer portal or attend volunteer meetings announced on the town’s website and local bulletin boards.\n",
            "\n",
            "Question: How do I request a building permit?\n",
            "Answer: Building permit applications can be obtained at the Town Hall’s Planning & Development Office or on the official website. A site inspection is required before approval.\n"
          ]
        }
      ]
    },
    {
      "cell_type": "code",
      "source": [
        "from google import genai\n",
        "from google.genai import types\n",
        "import base64\n",
        "\n",
        "\n",
        "\n",
        "def response_model(user_input):\n",
        "  client = genai.Client(\n",
        "      vertexai=True,\n",
        "      project=\"qwiklabs-gcp-01-3005c83a3aae\",\n",
        "      location=\"us-central1\",\n",
        "  )\n",
        "\n",
        "  si_text1 = \"\"\"You a helpful chatbot for people asking common questions about Aurora. Only respond to questions about Aurora.\"\"\"\n",
        "\n",
        "  # model = \"gemini-2.0-flash-lite-001\"\n",
        "  model = \"gemini-2.5-pro-preview-03-25\"\n",
        "  contents = [\n",
        "    types.Content(\n",
        "      role=\"user\",\n",
        "      parts=[\n",
        "        types.Part.from_text(text=user_input)\n",
        "      ]\n",
        "    ),\n",
        "  ]\n",
        "  generate_content_config = types.GenerateContentConfig(\n",
        "    temperature = 1,\n",
        "    top_p = 0.95,\n",
        "    seed = 0,\n",
        "    max_output_tokens = 1346,\n",
        "    response_modalities = [\"TEXT\"],\n",
        "    safety_settings = [types.SafetySetting(\n",
        "      category=\"HARM_CATEGORY_HATE_SPEECH\",\n",
        "      threshold=\"BLOCK_LOW_AND_ABOVE\"\n",
        "    ),types.SafetySetting(\n",
        "      category=\"HARM_CATEGORY_DANGEROUS_CONTENT\",\n",
        "      threshold=\"BLOCK_LOW_AND_ABOVE\"\n",
        "    ),types.SafetySetting(\n",
        "      category=\"HARM_CATEGORY_SEXUALLY_EXPLICIT\",\n",
        "      threshold=\"BLOCK_LOW_AND_ABOVE\"\n",
        "    ),types.SafetySetting(\n",
        "      category=\"HARM_CATEGORY_HARASSMENT\",\n",
        "      threshold=\"BLOCK_LOW_AND_ABOVE\"\n",
        "    )],\n",
        "    system_instruction=[types.Part.from_text(text=si_text1)],\n",
        "  )\n",
        "\n",
        "  response = client.models.generate_content(\n",
        "          model=model,\n",
        "          contents=contents,\n",
        "          config = generate_content_config,\n",
        "        )\n",
        "  # print(\"response:\",response.text)\n",
        "  return response.text\n",
        "\n",
        "\n",
        "def main(user_input):\n",
        "  # runs vector search for closes 5 embeddings\n",
        "  search_results = vector_search(user_input)\n",
        "\n",
        "  # formats the prompt with user question and 5 FAQs\n",
        "  formatted_prompt = format_prompt(user_input, search_results)\n",
        "  # print(formatted_prompt)\n",
        "\n",
        "  # sends formated prompt to gemini to construct a response to the answer\n",
        "  run_response = response_model(formatted_prompt)\n",
        "\n",
        "  return run_response\n",
        "\n",
        "#user question\n",
        "user_input = \"can I get some help with taxes\"\n",
        "\n",
        "\n",
        "print(f\"Question: {user_input}\\n--------------------------------\\n\\n\")\n",
        "print(main(user_input))\n"
      ],
      "metadata": {
        "colab": {
          "base_uri": "https://localhost:8080/"
        },
        "id": "OWRqaZFOYdFu",
        "outputId": "3dd191f2-ea16-412d-e320-27fdc3c1a660"
      },
      "id": "OWRqaZFOYdFu",
      "execution_count": 54,
      "outputs": [
        {
          "output_type": "stream",
          "name": "stdout",
          "text": [
            "Question: can I get some help with taxes\n",
            "--------------------------------\n",
            "\n",
            "\n",
            "Based on the information available for Aurora:\n",
            "\n",
            "*   If you're asking about **business taxes**, Aurora has a 4% sales tax and a 2% local business tax on net profits, in addition to any applicable state taxes.\n",
            "*   If your question is about **property taxes**, you should contact the Aurora Bay Assessors’ Office at Town Hall, or call (907) 555-0145 for assistance with assessments.\n",
            "\n",
            "If you have a different tax question about Aurora, please provide more details!\n"
          ]
        }
      ]
    }
  ],
  "metadata": {
    "kernelspec": {
      "display_name": "Python 3",
      "language": "python",
      "name": "python3"
    },
    "language_info": {
      "codemirror_mode": {
        "name": "ipython",
        "version": 3
      },
      "file_extension": ".py",
      "mimetype": "text/x-python",
      "name": "python",
      "nbconvert_exporter": "python",
      "pygments_lexer": "ipython3",
      "version": "3.10.10"
    },
    "colab": {
      "provenance": [],
      "name": "student-02-509de7e9a426 (Apr 28, 2025, 10:10:27 AM)"
    }
  },
  "nbformat": 4,
  "nbformat_minor": 5
}
